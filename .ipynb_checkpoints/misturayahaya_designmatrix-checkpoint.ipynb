{
 "cells": [
  {
   "cell_type": "code",
   "execution_count": 10,
   "id": "31041767-ec3d-4740-864f-69ff04b4371d",
   "metadata": {},
   "outputs": [
    {
     "name": "stdout",
     "output_type": "stream",
     "text": [
      "Synthetic Design Matrix (first 5 rows):\n",
      " [[-1.69774938]\n",
      " [-1.62845348]\n",
      " [-1.55915759]\n",
      " [-1.4898617 ]\n",
      " [-1.4205658 ]]\n"
     ]
    }
   ],
   "source": [
    "import numpy as np\n",
    "from sklearn.preprocessing import StandardScaler\n",
    "import matplotlib.pyplot as plt\n",
    "\n",
    "np.random.seed(42)\n",
    "\n",
    "# Synthetic data\n",
    "X_synthetic = np.linspace(0, 10, 50).reshape(-1, 1)         # (50,1)\n",
    "noise       = np.random.normal(0, 1, (50, 1))               # (50,1)\n",
    "y_synthetic = (2 * X_synthetic + 1 + noise).flatten()      # now (50,)\n",
    "\n",
    "# Normalize feature\n",
    "scaler = StandardScaler()\n",
    "X_synthetic_normalized = scaler.fit_transform(X_synthetic)\n",
    "\n",
    "print(\"Synthetic Design Matrix (first 5 rows):\\n\", X_synthetic_normalized[:5])\n",
    "\n",
    "# Answer: How does normalization affect the feature values?\n",
    "# Normalization transforms the feature values to have zero mean and unit variance. This helps gradient descent converge faster and avoids one feature dominating others due to scale."
   ]
  },
  {
   "cell_type": "code",
   "execution_count": 11,
   "id": "a0cfe6ee-5dfa-4fb7-a710-fbedcefbe1c8",
   "metadata": {},
   "outputs": [],
   "source": [
    "# Linear model\n",
    "def predict(X, w, b):\n",
    "    return w * X + b\n",
    "\n",
    "# Mean Squared Error\n",
    "def mean_squared_error(y_true, y_pred):\n",
    "    return np.mean((y_true - y_pred) ** 2)\n",
    "\n",
    "# Mean Absolute Error\n",
    "def mean_absolute_error(y_true, y_pred):\n",
    "    return np.mean(np.abs(y_true - y_pred))\n"
   ]
  },
  {
   "cell_type": "code",
   "execution_count": 12,
   "id": "74eb7718-7cf1-45b9-a718-04c3baea41c7",
   "metadata": {},
   "outputs": [
    {
     "name": "stdout",
     "output_type": "stream",
     "text": [
      "w = 1.5, b = 0.5 → MSE: 141.352, MAE: 10.301\n",
      "w = 2.0, b = 1.0 → MSE: 133.078, MAE: 9.864\n",
      "w = 2.5, b = 0.0 → MSE: 155.877, MAE: 10.838\n"
     ]
    }
   ],
   "source": [
    "params = [(1.5, 0.5), (2.0, 1.0), (2.5, 0.0)]\n",
    "\n",
    "for w, b in params:\n",
    "    y_pred = predict(X_synthetic_normalized, w, b)\n",
    "    mse = mean_squared_error(y_synthetic, y_pred)\n",
    "    mae = mean_absolute_error(y_synthetic, y_pred)\n",
    "    print(f\"w = {w}, b = {b} → MSE: {mse:.3f}, MAE: {mae:.3f}\")\n",
    "\n",
    "\n",
    "#Answer: Why does MSE penalize larger errors more than MAE?\n",
    "#MSE squares the error values, so larger errors are amplified more. MAE treats all errors linearly, so it is less sensitive to outliers."
   ]
  },
  {
   "cell_type": "code",
   "execution_count": 14,
   "id": "4a6caaad-edfc-4658-97ee-28a147184181",
   "metadata": {},
   "outputs": [],
   "source": [
    "# Gradient Descent for Linear Regression\n",
    "def gradient_descent(X, y, lr=0.01, iterations=100):\n",
    "    w = 0\n",
    "    b = 0\n",
    "    m = len(y)\n",
    "    mse_history = []\n",
    "\n",
    "    for i in range(iterations):\n",
    "        y_pred = w * X + b\n",
    "        dw = (2/m) * np.sum((y_pred - y) * X)\n",
    "        db = (2/m) * np.sum(y_pred - y)\n",
    "\n",
    "        w -= lr * dw\n",
    "        b -= lr * db\n",
    "\n",
    "        mse = mean_squared_error(y, y_pred)\n",
    "        mse_history.append(mse)\n",
    "\n",
    "    return w, b, mse_history\n",
    "\n",
    "\n",
    "# Train model\n",
    "w_opt, b_opt, history = gradient_descent(\n",
    "    X_synthetic_normalized.flatten(), \n",
    "    y_synthetic\n",
    ")\n",
    "print(f\"Optimized w: {w_opt:.4f}, b: {b_opt:.4f}\")"
   ]
  },
  {
   "cell_type": "code",
   "execution_count": null,
   "id": "7a414546-c6e8-433c-a757-bf4d1d82a44c",
   "metadata": {},
   "outputs": [],
   "source": []
  },
  {
   "cell_type": "code",
   "execution_count": null,
   "id": "6bf69fde-9862-4a13-9739-4562fc42fa60",
   "metadata": {},
   "outputs": [],
   "source": []
  },
  {
   "cell_type": "code",
   "execution_count": null,
   "id": "2fa56e67-645c-4838-a9bb-c86323189f48",
   "metadata": {},
   "outputs": [],
   "source": []
  }
 ],
 "metadata": {
  "kernelspec": {
   "display_name": "Python 3 (ipykernel)",
   "language": "python",
   "name": "python3"
  },
  "language_info": {
   "codemirror_mode": {
    "name": "ipython",
    "version": 3
   },
   "file_extension": ".py",
   "mimetype": "text/x-python",
   "name": "python",
   "nbconvert_exporter": "python",
   "pygments_lexer": "ipython3",
   "version": "3.10.8"
  }
 },
 "nbformat": 4,
 "nbformat_minor": 5
}
